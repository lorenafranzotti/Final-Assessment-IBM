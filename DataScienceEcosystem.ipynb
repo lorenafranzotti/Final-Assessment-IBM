{
  "metadata": {
    "kernelspec": {
      "name": "python",
      "display_name": "Python (Pyodide)",
      "language": "python"
    },
    "language_info": {
      "codemirror_mode": {
        "name": "python",
        "version": 3
      },
      "file_extension": ".py",
      "mimetype": "text/x-python",
      "name": "python",
      "nbconvert_exporter": "python",
      "pygments_lexer": "ipython3",
      "version": "3.8"
    }
  },
  "nbformat_minor": 5,
  "nbformat": 4,
  "cells": [
    {
      "id": "effe9bc6-8daf-44be-97e4-8a7de031f6b6",
      "cell_type": "markdown",
      "source": "# Data Science Tools and Ecosystem",
      "metadata": {}
    },
    {
      "id": "78f7cc63-dc4f-4a7a-95e7-39af6abc53ad",
      "cell_type": "markdown",
      "source": "In this notebook, Data Science Tools and Ecosystem are summarized.",
      "metadata": {}
    },
    {
      "id": "ffa002ff-8040-4843-a69b-dd0a3e9b5204",
      "cell_type": "markdown",
      "source": "Some of the popular languages that Data Scientists use are:\n\n1. Python  \n2. R  \n3. SQL\n",
      "metadata": {}
    },
    {
      "id": "e498d76e-41e9-4edd-9f2d-c5e41574a90c",
      "cell_type": "markdown",
      "source": "Some of the commonly used libraries used by Data Scientists include:\n\n1. Pandas  \n2. NumPy  \n3. Matplotlib\n",
      "metadata": {}
    },
    {
      "id": "2f9ce4e6-f5de-450e-937c-b0e8bbaa139b",
      "cell_type": "markdown",
      "source": "| Data Science Tools        |\n|--------------------------|\n| Jupyter Notebook          |\n| RStudio                  |\n| VS Code                  |\n",
      "metadata": {}
    },
    {
      "id": "4688dc67-5f93-4804-b295-d02dc0e78290",
      "cell_type": "markdown",
      "source": "### Below are a few examples of evaluating arithmetic expressions in Python.\n",
      "metadata": {}
    },
    {
      "id": "1849f784-67f1-4458-af1b-1f8dcf6f1042",
      "cell_type": "code",
      "source": "# This is a simple arithmetic expression to multiply then add integers\nprint((3 * 4) + 5)\n",
      "metadata": {
        "trusted": true
      },
      "outputs": [
        {
          "name": "stdout",
          "output_type": "stream",
          "text": "17\n"
        }
      ],
      "execution_count": 4
    },
    {
      "id": "95f68e4e-cefa-4241-b4db-72ffc00860ec",
      "cell_type": "code",
      "source": "# This will convert 200 minutes to hours by dividing by 60\n200 / 60\n",
      "metadata": {
        "trusted": true
      },
      "outputs": [
        {
          "execution_count": 5,
          "output_type": "execute_result",
          "data": {
            "text/plain": "3.3333333333333335"
          },
          "metadata": {}
        }
      ],
      "execution_count": 5
    },
    {
      "id": "b76cb62f-2f8a-4a71-9a7e-ef471592fe61",
      "cell_type": "markdown",
      "source": "**Objectives:**\n\n- List popular languages for Data Science\n- Identify commonly used data science libraries\n- Understand basic arithmetic operations in Python\n- Create and format markdown cells in Jupyter Notebook\n- Demonstrate converting units using code cells\n",
      "metadata": {}
    },
    {
      "id": "26232adf-9769-4599-ac16-e879fba4bdeb",
      "cell_type": "markdown",
      "source": "## Author\n\nLorena Franzotti\n",
      "metadata": {}
    },
    {
      "id": "59a47a09-f81d-4f9e-9272-6a35c5ecd6ab",
      "cell_type": "code",
      "source": "",
      "metadata": {
        "trusted": true
      },
      "outputs": [],
      "execution_count": null
    }
  ]
}